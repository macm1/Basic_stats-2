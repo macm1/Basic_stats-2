{
 "cells": [
  {
   "cell_type": "code",
   "execution_count": 1,
   "id": "41c396f1",
   "metadata": {},
   "outputs": [],
   "source": [
    "import scipy.stats as stats"
   ]
  },
  {
   "cell_type": "markdown",
   "id": "7b2d39cd",
   "metadata": {},
   "source": [
    "- A) More employees at the processing center are older than 44 than between 38 and 44."
   ]
  },
  {
   "cell_type": "code",
   "execution_count": 2,
   "id": "38c1b1ae",
   "metadata": {},
   "outputs": [
    {
     "data": {
      "text/plain": [
       "0.15865525393145707"
      ]
     },
     "execution_count": 2,
     "metadata": {},
     "output_type": "execute_result"
    }
   ],
   "source": [
    "# probability of age > 44\n",
    "1 - stats.norm.cdf(44 , 38 , 6)"
   ]
  },
  {
   "cell_type": "code",
   "execution_count": 3,
   "id": "beb17522",
   "metadata": {},
   "outputs": [
    {
     "data": {
      "text/plain": [
       "0.8413447460685429"
      ]
     },
     "execution_count": 3,
     "metadata": {},
     "output_type": "execute_result"
    }
   ],
   "source": [
    "# Probabiltiy of age between 38 and 44\n",
    "\n",
    "# Probability of age < 44\n",
    "stats.norm.cdf(44 , 38 ,6)"
   ]
  },
  {
   "cell_type": "code",
   "execution_count": 6,
   "id": "d2735d4d",
   "metadata": {},
   "outputs": [
    {
     "data": {
      "text/plain": [
       "0.5"
      ]
     },
     "execution_count": 6,
     "metadata": {},
     "output_type": "execute_result"
    }
   ],
   "source": [
    "# Probability of age < 38\n",
    "stats.norm.cdf(38 , 38 ,6)"
   ]
  },
  {
   "cell_type": "code",
   "execution_count": 7,
   "id": "27a5e901",
   "metadata": {},
   "outputs": [
    {
     "data": {
      "text/plain": [
       "0.3413447460685429"
      ]
     },
     "execution_count": 7,
     "metadata": {},
     "output_type": "execute_result"
    }
   ],
   "source": [
    "# Probabiltiy of age between 38 and 44\n",
    "\n",
    "stats.norm.cdf(44 , 38 ,6) - stats.norm.cdf(38 , 38 ,6)"
   ]
  },
  {
   "cell_type": "markdown",
   "id": "98810598",
   "metadata": {},
   "source": [
    "- B) A training program for employees under the age of 30 at the center would be expected to attract about 36 employees."
   ]
  },
  {
   "cell_type": "code",
   "execution_count": 8,
   "id": "cf2de7e2",
   "metadata": {},
   "outputs": [
    {
     "data": {
      "text/plain": [
       "0.09121121972586788"
      ]
     },
     "execution_count": 8,
     "metadata": {},
     "output_type": "execute_result"
    }
   ],
   "source": [
    "#  Employees under 30 yrs of age\n",
    "stats.norm.cdf(30 ,38 ,6)"
   ]
  },
  {
   "cell_type": "code",
   "execution_count": 10,
   "id": "b1a0d3f0",
   "metadata": {},
   "outputs": [
    {
     "data": {
      "text/plain": [
       "36.484487890347154"
      ]
     },
     "execution_count": 10,
     "metadata": {},
     "output_type": "execute_result"
    }
   ],
   "source": [
    "# No. of employees attending training program from 400 nos. \n",
    "\n",
    "# Total_no * Employees under 30 yrs of age\n",
    "\n",
    "400*stats.norm.cdf(30,38,6)"
   ]
  }
 ],
 "metadata": {
  "kernelspec": {
   "display_name": "Python 3 (ipykernel)",
   "language": "python",
   "name": "python3"
  },
  "language_info": {
   "codemirror_mode": {
    "name": "ipython",
    "version": 3
   },
   "file_extension": ".py",
   "mimetype": "text/x-python",
   "name": "python",
   "nbconvert_exporter": "python",
   "pygments_lexer": "ipython3",
   "version": "3.11.5"
  }
 },
 "nbformat": 4,
 "nbformat_minor": 5
}
