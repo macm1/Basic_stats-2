{
 "cells": [
  {
   "cell_type": "code",
   "execution_count": 1,
   "id": "87db5af2",
   "metadata": {},
   "outputs": [
    {
     "name": "stdout",
     "output_type": "stream",
     "text": [
      "The probability that at least one in 5 attempted telephone calls reaches the wrong number is: 0.024751\n"
     ]
    }
   ],
   "source": [
    "def probability_of_wrong_number(prob_single_attempt, num_attempts):\n",
    "    return 1 - (1 - prob_single_attempt) ** num_attempts\n",
    "\n",
    "# Given probability of a single attempted call reaching the wrong number\n",
    "prob_single_attempt = 1/200\n",
    "\n",
    "# Number of attempts\n",
    "num_attempts = 5\n",
    "\n",
    "# Calculate the probability\n",
    "result = probability_of_wrong_number(prob_single_attempt, num_attempts)\n",
    "\n",
    "# Print the result\n",
    "print(f\"The probability that at least one in {num_attempts} attempted telephone calls reaches the wrong number is: {result:.6f}\")\n"
   ]
  }
 ],
 "metadata": {
  "kernelspec": {
   "display_name": "Python 3 (ipykernel)",
   "language": "python",
   "name": "python3"
  },
  "language_info": {
   "codemirror_mode": {
    "name": "ipython",
    "version": 3
   },
   "file_extension": ".py",
   "mimetype": "text/x-python",
   "name": "python",
   "nbconvert_exporter": "python",
   "pygments_lexer": "ipython3",
   "version": "3.11.5"
  }
 },
 "nbformat": 4,
 "nbformat_minor": 5
}
